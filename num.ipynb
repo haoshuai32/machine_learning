{
 "cells": [
  {
   "cell_type": "code",
   "execution_count": 13,
   "metadata": {},
   "outputs": [
    {
     "name": "stdout",
     "output_type": "stream",
     "text": [
      "[1 2 3 4]\n",
      "(4,)\n",
      "4\n",
      "(2, 3)\n",
      "2\n",
      "3\n",
      "2\n",
      "3\n"
     ]
    }
   ],
   "source": [
    "import numpy as np\n",
    "\n",
    "x = np.array([1,2,3,4])\n",
    "\n",
    "print(x)\n",
    "print(x.shape)\n",
    "print(x.shape[0])\n",
    "# print(x.shape[1])\n",
    "\n",
    "\n",
    "\n",
    "# 创建一个数组\n",
    "out = np.zeros((2,3))\n",
    "print(out.shape)\n",
    "# print(out.shape[0])\n",
    "# print(out.shape[1])\n",
    "# for i in out.shape :\n",
    "#     print(i)"
   ]
  }
 ],
 "metadata": {
  "kernelspec": {
   "display_name": "yolov5",
   "language": "python",
   "name": "python3"
  },
  "language_info": {
   "codemirror_mode": {
    "name": "ipython",
    "version": 3
   },
   "file_extension": ".py",
   "mimetype": "text/x-python",
   "name": "python",
   "nbconvert_exporter": "python",
   "pygments_lexer": "ipython3",
   "version": "3.7.15"
  },
  "orig_nbformat": 4,
  "vscode": {
   "interpreter": {
    "hash": "792f02fa3233000d53d96a9fd65aa21ee5b253f161e777830fff46bb7cf60d96"
   }
  }
 },
 "nbformat": 4,
 "nbformat_minor": 2
}
